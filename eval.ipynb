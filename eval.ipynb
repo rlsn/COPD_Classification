{
 "cells": [
  {
   "cell_type": "code",
   "execution_count": 7,
   "id": "a6056e79-a875-4e38-b473-61a5da15b711",
   "metadata": {
    "scrolled": true
   },
   "outputs": [],
   "source": [
    "import torch\n",
    "from model import VitDet3D\n",
    "from torch.utils.data import DataLoader\n",
    "from dataset import LUNA16_Dataset, mark_bbox, collate_fn, export_as_gif\n",
    "from train import compute_metrics\n",
    "import numpy as np\n",
    "import os\n",
    "from tqdm.notebook import tqdm\n",
    "import matplotlib.pyplot as plt\n",
    "from sklearn.metrics import roc_curve, roc_auc_score, classification_report\n",
    "%matplotlib inline"
   ]
  },
  {
   "cell_type": "code",
   "execution_count": 2,
   "id": "04007b55-113a-4b26-8c41-60d9c1d4a162",
   "metadata": {},
   "outputs": [],
   "source": [
    "device = \"cuda:0\" if torch.cuda.is_available() else \"cpu\"\n",
    "\n",
    "model_path = \"checkpoint/checkpoint-100000\"\n",
    "model = VitDet3D.from_pretrained(model_path).eval().to(device)"
   ]
  },
  {
   "cell_type": "code",
   "execution_count": 4,
   "id": "311aca06-644d-43a6-963b-72c57ca96223",
   "metadata": {},
   "outputs": [
    {
     "data": {
      "application/vnd.jupyter.widget-view+json": {
       "model_id": "70d022155e04489eb4fc298b68ef3c9c",
       "version_major": 2,
       "version_minor": 0
      },
      "text/plain": [
       "  0%|          | 0/88 [00:00<?, ?it/s]"
      ]
     },
     "metadata": {},
     "output_type": "display_data"
    }
   ],
   "source": [
    "data_dir = \"datasets/luna16\"\n",
    "test_dataset = LUNA16_Dataset(data_dir=data_dir, split=[9], samples_per_img = 16)\n",
    "test_dataloader = DataLoader(test_dataset, batch_size=1, shuffle=False, collate_fn=collate_fn)\n",
    "\n",
    "output_dir = \"eval_imgs\"\n",
    "os.makedirs(output_dir, exist_ok=True)\n",
    "\n",
    "test_pred_logits = []\n",
    "test_pred_bbox = []\n",
    "test_gt_labels = []\n",
    "test_gt_bbox = []\n",
    "for i, inputs in tqdm(enumerate(test_dataloader), total=len(test_dataset)):\n",
    "    with torch.no_grad():\n",
    "        inputs = dict([(k,v.to(device)) for k,v in inputs.items()])\n",
    "        outputs = model(**inputs)\n",
    "\n",
    "    pred_logits = outputs[\"logits\"].cpu().numpy()\n",
    "    pred_bbox = outputs[\"bbox\"].cpu().numpy()\n",
    "    gt_labels = inputs[\"labels\"].cpu().numpy()\n",
    "    gt_bbox = inputs[\"bbox\"].cpu().numpy()\n",
    "    imgs = inputs[\"pixel_values\"].cpu().numpy()\n",
    "    \n",
    "    test_pred_logits.append(pred_logits)\n",
    "    test_pred_bbox.append(pred_bbox)\n",
    "    test_gt_labels.append(gt_labels)\n",
    "    test_gt_bbox.append(gt_bbox)\n",
    "\n",
    "    for im, label, gt, pred in zip(imgs, gt_labels, gt_bbox, pred_bbox):\n",
    "        if label==1:\n",
    "            im = im[0]\n",
    "            gt_im = mark_bbox(im, gt)\n",
    "            pred_im = mark_bbox(im, pred)\n",
    "            export_as_gif(f\"{output_dir}/gt_bbox_{i}.gif\", im, gt_im)\n",
    "            export_as_gif(f\"{output_dir}/pred_bbox_{i}.gif\", im, pred_im)\n",
    "            break\n",
    "\n",
    "test_pred_logits = np.concatenate(test_pred_logits, 0)\n",
    "test_pred_bbox = np.concatenate(test_pred_bbox, 0)\n",
    "test_gt_labels = np.concatenate(test_gt_labels, 0)\n",
    "test_gt_bbox = np.concatenate(test_gt_bbox, 0)"
   ]
  },
  {
   "cell_type": "code",
   "execution_count": 16,
   "id": "a890e02c-4c1b-4e68-809f-bc17b8cab674",
   "metadata": {},
   "outputs": [
    {
     "name": "stdout",
     "output_type": "stream",
     "text": [
      "iou = 0.276321\n",
      "              precision    recall  f1-score   support\n",
      "\n",
      "           0       0.91      1.00      0.95       924\n",
      "           1       0.99      0.81      0.89       484\n",
      "\n",
      "    accuracy                           0.93      1408\n",
      "   macro avg       0.95      0.90      0.92      1408\n",
      "weighted avg       0.94      0.93      0.93      1408\n",
      "\n"
     ]
    }
   ],
   "source": [
    "iou = compute_metrics([(test_pred_logits,test_pred_bbox),(test_gt_labels,test_gt_bbox)])[\"iou\"]\n",
    "print(\"iou =\",iou)\n",
    "print(classification_report(test_gt_labels, test_pred_logits>0))"
   ]
  },
  {
   "cell_type": "code",
   "execution_count": 34,
   "id": "343d79bb-cadb-4a6e-8f2b-8d7741003e57",
   "metadata": {},
   "outputs": [
    {
     "name": "stdout",
     "output_type": "stream",
     "text": [
      "auc=0.9824521753168134\n"
     ]
    },
    {
     "data": {
      "image/png": "[encoded data removed]",
      "text/plain": [
       "<Figure size 640x480 with 1 Axes>"
      ]
     },
     "metadata": {},
     "output_type": "display_data"
    }
   ],
   "source": [
    "fpr,tpr,_=roc_curve(test_gt_labels, test_pred_logits)\n",
    "ax = plt.subplot(1,1,1)\n",
    "ax.plot(fpr,tpr)\n",
    "ax.set_title(\"Testset ROC curve\")\n",
    "ax.set_xlabel(\"false positive rate\")\n",
    "ax.set_ylabel(\"true positive rate\")\n",
    "auc = roc_auc_score(test_gt_labels, test_pred_logits)\n",
    "print(f\"auc={auc}\")"
   ]
  }
 ],
 "metadata": {
  "kernelspec": {
   "display_name": "Python 3 (ipykernel)",
   "language": "python",
   "name": "python3"
  },
  "language_info": {
   "codemirror_mode": {
    "name": "ipython",
    "version": 3
   },
   "file_extension": ".py",
   "mimetype": "text/x-python",
   "name": "python",
   "nbconvert_exporter": "python",
   "pygments_lexer": "ipython3",
   "version": "3.11.5"
  }
 },
 "nbformat": 4,
 "nbformat_minor": 5
}
